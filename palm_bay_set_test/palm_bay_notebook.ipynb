{
 "cells": [
  {
   "metadata": {
    "ExecuteTime": {
     "end_time": "2025-03-07T22:27:27.478542Z",
     "start_time": "2025-03-07T22:27:27.473578Z"
    }
   },
   "cell_type": "code",
   "source": [
    "from IPython.display import display\n",
    "from dotenv import load_dotenv\n",
    "import pandas as pd\n",
    "import os\n",
    "from sqlalchemy import create_engine\n",
    "load_dotenv()"
   ],
   "id": "7f4993d7fc885526",
   "outputs": [
    {
     "data": {
      "text/plain": [
       "True"
      ]
     },
     "execution_count": 20,
     "metadata": {},
     "output_type": "execute_result"
    }
   ],
   "execution_count": 20
  },
  {
   "metadata": {
    "ExecuteTime": {
     "end_time": "2025-03-07T22:27:27.739874Z",
     "start_time": "2025-03-07T22:27:27.490356Z"
    }
   },
   "cell_type": "code",
   "source": [
    "connection_string = os.getenv(\"RSR_SVC_CONN\")\n",
    "\n",
    "try:\n",
    "    engine = create_engine(connection_string)\n",
    "    with engine.connect() as connection:\n",
    "        print(\"Connection to the database was successful!\")\n",
    "except Exception as e:\n",
    "    print(f\"Failed to connect to the database: {e}\")\n",
    "    exit(1)"
   ],
   "id": "6593dd712acd142b",
   "outputs": [
    {
     "name": "stdout",
     "output_type": "stream",
     "text": [
      "Connection to the database was successful!\n"
     ]
    }
   ],
   "execution_count": 21
  },
  {
   "metadata": {
    "ExecuteTime": {
     "end_time": "2025-03-07T22:27:29.229948Z",
     "start_time": "2025-03-07T22:27:27.808714Z"
    }
   },
   "cell_type": "code",
   "source": [
    "df_palm_bay_sql = pd.read_sql(\"select * from auto.vi_test_summary_unified_reporting tsr join md2.test_types tt using (test_type_id) where tsr.collection_set_id = 12638;\",\n",
    "                           con=os.getenv('RSR_SVC_CONN'))"
   ],
   "id": "6b0af7ebae5e804",
   "outputs": [],
   "execution_count": 22
  },
  {
   "metadata": {
    "ExecuteTime": {
     "end_time": "2025-03-07T22:27:29.245514Z",
     "start_time": "2025-03-07T22:27:29.237091Z"
    }
   },
   "cell_type": "code",
   "source": "print(df_palm_bay_sql)",
   "id": "e410aab201bdee1e",
   "outputs": [
    {
     "name": "stdout",
     "output_type": "stream",
     "text": [
      "       test_type_id  product_period_id product_period  collection_set_id   \n",
      "0                14                 37        2025-1H              12638  \\\n",
      "1                25                 37        2025-1H              12638   \n",
      "2                20                 37        2025-1H              12638   \n",
      "3                14                 37        2025-1H              12638   \n",
      "4                26                 37        2025-1H              12638   \n",
      "...             ...                ...            ...                ...   \n",
      "20664            14                 37        2025-1H              12638   \n",
      "20665            14                 37        2025-1H              12638   \n",
      "20666            26                 37        2025-1H              12638   \n",
      "20667            19                 37        2025-1H              12638   \n",
      "20668            14                 37        2025-1H              12638   \n",
      "\n",
      "           collection_set  test_event_id  device_event_id  collection_area_id   \n",
      "0      PalmBay-FL_2025-1H      202711310       6774837224                  98  \\\n",
      "1      PalmBay-FL_2025-1H      202711285       6774835119                  98   \n",
      "2      PalmBay-FL_2025-1H      202711286       6774835169                  98   \n",
      "3      PalmBay-FL_2025-1H      202711287       6774835211                  98   \n",
      "4      PalmBay-FL_2025-1H      202711288       6774835277                  98   \n",
      "...                   ...            ...              ...                 ...   \n",
      "20664  PalmBay-FL_2025-1H      202711334       6774839882                  98   \n",
      "20665  PalmBay-FL_2025-1H      202711336       6774840153                  98   \n",
      "20666  PalmBay-FL_2025-1H      202711337       6774840185                  98   \n",
      "20667  PalmBay-FL_2025-1H      202711338       6774840842                  98   \n",
      "20668  PalmBay-FL_2025-1H      202711339       6774840971                  98   \n",
      "\n",
      "       collection_type_id  carrier_id  ... task_speed_median   \n",
      "0                       1           4  ...          2.669000  \\\n",
      "1                       1         478  ...               NaN   \n",
      "2                       1           1  ...        514.896628   \n",
      "3                       1           3  ...          1.870000   \n",
      "4                       1         478  ...          0.211000   \n",
      "...                   ...         ...  ...               ...   \n",
      "20664                   1           3  ...          1.021000   \n",
      "20665                   1           3  ...          1.165000   \n",
      "20666                   1           3  ...          0.138000   \n",
      "20667                   1           1  ...         12.960124   \n",
      "20668                   1           3  ...          1.270000   \n",
      "\n",
      "       task_speed_5th_percentile  task_speed_95th_percentile   \n",
      "0                            NaN                         NaN  \\\n",
      "1                            NaN                         NaN   \n",
      "2                            NaN                         NaN   \n",
      "3                            NaN                         NaN   \n",
      "4                        0.19290                     0.23140   \n",
      "...                          ...                         ...   \n",
      "20664                        NaN                         NaN   \n",
      "20665                        NaN                         NaN   \n",
      "20666                    0.10675                     0.18755   \n",
      "20667                        NaN                         NaN   \n",
      "20668                        NaN                         NaN   \n",
      "\n",
      "       video_stall_severity                                  name   \n",
      "0                       NaN                      TST_SMS_SEND_NDP  \\\n",
      "1                       NaN                      TST_UDP_ECHO_NDP   \n",
      "2                       NaN               TST_DATA_SPEED_RECV_NDP   \n",
      "3                       NaN                      TST_SMS_SEND_NDP   \n",
      "4                       NaN  TST_LITE_DATA_RELIABILITY_SECURE_NDP   \n",
      "...                     ...                                   ...   \n",
      "20664                   NaN                      TST_SMS_SEND_NDP   \n",
      "20665                   NaN                      TST_SMS_SEND_NDP   \n",
      "20666                   NaN  TST_LITE_DATA_RELIABILITY_SECURE_NDP   \n",
      "20667                   NaN               TST_DATA_SPEED_SEND_NDP   \n",
      "20668                   NaN                      TST_SMS_SEND_NDP   \n",
      "\n",
      "       source_type                insert_time                update_time   \n",
      "0            SmsTx 2014-04-18 21:42:40.311318 2014-04-18 21:42:40.311320  \\\n",
      "1          UDPEcho 2014-09-04 00:45:12.842506 2018-05-15 19:00:36.066229   \n",
      "2        Download2 2014-04-18 21:42:40.311407 2018-05-15 19:00:36.097789   \n",
      "3            SmsTx 2014-04-18 21:42:40.311318 2014-04-18 21:42:40.311320   \n",
      "4             LDRS 2016-10-12 22:06:28.157620 2018-05-15 19:00:36.097922   \n",
      "...            ...                        ...                        ...   \n",
      "20664        SmsTx 2014-04-18 21:42:40.311318 2014-04-18 21:42:40.311320   \n",
      "20665        SmsTx 2014-04-18 21:42:40.311318 2014-04-18 21:42:40.311320   \n",
      "20666         LDRS 2016-10-12 22:06:28.157620 2018-05-15 19:00:36.097922   \n",
      "20667      Upload2 2014-04-18 21:42:40.311373 2018-05-15 19:00:36.097857   \n",
      "20668        SmsTx 2014-04-18 21:42:40.311318 2014-04-18 21:42:40.311320   \n",
      "\n",
      "             friendly_name  lma_name  \n",
      "0                     Text      None  \n",
      "1                 UDP Echo   UDPECHO  \n",
      "2      Downlink Throughput  DOWNLOAD  \n",
      "3                     Text      None  \n",
      "4         Lite Data Secure      LDRS  \n",
      "...                    ...       ...  \n",
      "20664                 Text      None  \n",
      "20665                 Text      None  \n",
      "20666     Lite Data Secure      LDRS  \n",
      "20667    Uplink Throughput    UPLOAD  \n",
      "20668                 Text      None  \n",
      "\n",
      "[20669 rows x 47 columns]\n"
     ]
    }
   ],
   "execution_count": 23
  }
 ],
 "metadata": {
  "kernelspec": {
   "name": "python3",
   "language": "python",
   "display_name": "Python 3 (ipykernel)"
  }
 },
 "nbformat": 5,
 "nbformat_minor": 9
}
