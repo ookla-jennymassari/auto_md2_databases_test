{
 "cells": [
  {
   "metadata": {
    "ExecuteTime": {
     "end_time": "2025-03-07T22:28:40.462996Z",
     "start_time": "2025-03-07T22:28:40.232650Z"
    }
   },
   "cell_type": "code",
   "source": [
    "import pandas as pd\n",
    "from dotenv import load_dotenv\n",
    "import os\n",
    "from sqlalchemy import create_engine\n",
    "\n",
    "load_dotenv()"
   ],
   "id": "8aede1544c0dadcb",
   "outputs": [
    {
     "data": {
      "text/plain": [
       "True"
      ]
     },
     "execution_count": 1,
     "metadata": {},
     "output_type": "execute_result"
    }
   ],
   "execution_count": 1
  },
  {
   "metadata": {
    "ExecuteTime": {
     "end_time": "2025-03-07T22:28:40.800375Z",
     "start_time": "2025-03-07T22:28:40.523619Z"
    }
   },
   "cell_type": "code",
   "source": [
    "# Debugging: Print the connection string\n",
    "connection_string = os.getenv(\"RSR_SVC_CONN\")\n",
    "# print(\"RSR_SVC_CONN:\", connection_string)\n",
    "\n",
    "# Test the connection\n",
    "try:\n",
    "    engine = create_engine(connection_string)\n",
    "    with engine.connect() as connection:\n",
    "        print(\"Connection to the database was successful!\")\n",
    "except Exception as e:\n",
    "    print(f\"Failed to connect to the database: {e}\")\n",
    "    exit(1)"
   ],
   "id": "78c816d776bfccaa",
   "outputs": [
    {
     "name": "stdout",
     "output_type": "stream",
     "text": [
      "Connection to the database was successful!\n"
     ]
    }
   ],
   "execution_count": 2
  },
  {
   "metadata": {
    "ExecuteTime": {
     "end_time": "2025-03-07T22:28:44.520875Z",
     "start_time": "2025-03-07T22:28:40.867042Z"
    }
   },
   "cell_type": "code",
   "source": [
    "df_atlanta_sql = pd.read_sql(\"select * from auto.test_summary_reporting where collection_set_id = 12319;\",\n",
    "                           con=os.getenv('RSR_SVC_CONN'))\n",
    "\n",
    "print(df_atlanta_sql)"
   ],
   "id": "ca1582549c081f70",
   "outputs": [
    {
     "name": "stdout",
     "output_type": "stream",
     "text": [
      "       product_period_id product_period  collection_set_id   \n",
      "0                     36        2024-2H              12319  \\\n",
      "1                     36        2024-2H              12319   \n",
      "2                     36        2024-2H              12319   \n",
      "3                     36        2024-2H              12319   \n",
      "4                     36        2024-2H              12319   \n",
      "...                  ...            ...                ...   \n",
      "93935                 36        2024-2H              12319   \n",
      "93936                 36        2024-2H              12319   \n",
      "93937                 36        2024-2H              12319   \n",
      "93938                 36        2024-2H              12319   \n",
      "93939                 36        2024-2H              12319   \n",
      "\n",
      "           collection_set  test_event_id  device_event_id  collection_area_id   \n",
      "0      Atlanta-GA_2024-2H      196895201       6501254168                  39  \\\n",
      "1      Atlanta-GA_2024-2H      196895203       6501254308                  39   \n",
      "2      Atlanta-GA_2024-2H      196895204       6501254314                  39   \n",
      "3      Atlanta-GA_2024-2H      196895205       6501254354                  39   \n",
      "4      Atlanta-GA_2024-2H      196895206       6501254366                  39   \n",
      "...                   ...            ...              ...                 ...   \n",
      "93935  Atlanta-GA_2024-2H      197130753       6512121581                  39   \n",
      "93936  Atlanta-GA_2024-2H      197158654       6513078148                  39   \n",
      "93937  Atlanta-GA_2024-2H      197172079       6513540674                  39   \n",
      "93938  Atlanta-GA_2024-2H      197171499       6513500409                  39   \n",
      "93939  Atlanta-GA_2024-2H      197177252       6513815242                  39   \n",
      "\n",
      "       collection_type_id  carrier_id   carrier  ...  access_success   \n",
      "0                       1           3  T-Mobile  ...             1.0  \\\n",
      "1                       1           1      AT&T  ...             1.0   \n",
      "2                       1           1      AT&T  ...             1.0   \n",
      "3                       1           4   Verizon  ...             1.0   \n",
      "4                       1           3  T-Mobile  ...             1.0   \n",
      "...                   ...         ...       ...  ...             ...   \n",
      "93935                   1           4   Verizon  ...             1.0   \n",
      "93936                   1           4   Verizon  ...             1.0   \n",
      "93937                   1           4   Verizon  ...             1.0   \n",
      "93938                   1           4   Verizon  ...             1.0   \n",
      "93939                   1           4   Verizon  ...             1.0   \n",
      "\n",
      "       task_success  avg_lte_rsrp  avg_lte_rssnr  avg_nr_ss_rsrp   \n",
      "0               1.0           NaN            NaN     -103.000000  \\\n",
      "1               1.0    -98.000000           9.00             NaN   \n",
      "2               1.0   -100.333333           1.00     -108.000000   \n",
      "3               1.0   -113.600000          -1.60     -117.500000   \n",
      "4               1.0    -93.150000           3.55      -87.000000   \n",
      "...             ...           ...            ...             ...   \n",
      "93935           1.0    -79.000000           9.75      -64.333333   \n",
      "93936           1.0    -91.000000          24.75      -89.500000   \n",
      "93937           1.0    -97.250000           4.25      -90.500000   \n",
      "93938           1.0    -80.750000          11.50      -79.000000   \n",
      "93939           1.0    -86.500000           7.75      -73.000000   \n",
      "\n",
      "       avg_nr_ss_sinr        ts_prod_insert_time        ts_prod_update_time   \n",
      "0           13.000000 2024-09-06 19:00:59.882094 2024-09-06 19:00:59.882094  \\\n",
      "1                 NaN 2024-09-06 19:00:55.177337 2024-09-06 19:00:55.177337   \n",
      "2            7.000000 2024-09-06 19:00:56.367486 2024-09-06 19:00:56.367486   \n",
      "3           -0.500000 2024-09-06 19:01:01.156519 2024-09-06 19:01:01.156519   \n",
      "4            6.000000 2024-09-06 19:00:58.825965 2024-09-06 19:00:58.825965   \n",
      "...               ...                        ...                        ...   \n",
      "93935       28.666667 2024-09-06 19:01:03.012405 2024-09-06 19:01:03.012405   \n",
      "93936       26.500000 2024-09-06 19:01:03.012712 2024-09-06 19:01:03.012712   \n",
      "93937       20.000000 2024-09-06 19:01:03.013415 2024-09-06 19:01:03.013415   \n",
      "93938       23.500000 2024-09-06 19:01:03.015373 2024-09-06 19:01:03.015373   \n",
      "93939       28.500000 2024-09-06 19:01:03.016914 2024-09-06 19:01:03.016914   \n",
      "\n",
      "              ts_reporting_insert_time  collection_set_status_id_tsr  \n",
      "0     2024-09-07 00:00:45.117745+00:00                            11  \n",
      "1     2024-09-07 00:00:45.117745+00:00                            11  \n",
      "2     2024-09-07 00:00:45.117745+00:00                            11  \n",
      "3     2024-09-07 00:00:45.117745+00:00                            11  \n",
      "4     2024-09-07 00:00:45.117745+00:00                            11  \n",
      "...                                ...                           ...  \n",
      "93935 2024-09-07 00:00:45.117745+00:00                            11  \n",
      "93936 2024-09-07 00:00:45.117745+00:00                            11  \n",
      "93937 2024-09-07 00:00:45.117745+00:00                            11  \n",
      "93938 2024-09-07 00:00:45.117745+00:00                            11  \n",
      "93939 2024-09-07 00:00:45.117745+00:00                            11  \n",
      "\n",
      "[93940 rows x 34 columns]\n"
     ]
    }
   ],
   "execution_count": 3
  }
 ],
 "metadata": {
  "kernelspec": {
   "name": "python3",
   "language": "python",
   "display_name": "Python 3 (ipykernel)"
  }
 },
 "nbformat": 5,
 "nbformat_minor": 9
}
